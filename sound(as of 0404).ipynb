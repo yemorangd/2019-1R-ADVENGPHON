{
 "cells": [
  {
   "cell_type": "code",
   "execution_count": 2,
   "metadata": {},
   "outputs": [],
   "source": [
    "from matplotlib import pyplot as plt\n",
    "from mpl_toolkits.mplot3d import Axes3D\n",
    "from mpl_toolkits.axes_grid1 import make_axes_locatable\n",
    "import IPython.display as ipd\n",
    "import numpy as np\n",
    "%matplotlib notebook\n",
    "from scipy.signal import lfilter"
   ]
  },
  {
   "cell_type": "markdown",
   "metadata": {},
   "source": [
    "필요한 것들이 좀 많음"
   ]
  },
  {
   "cell_type": "markdown",
   "metadata": {},
   "source": [
    "## Phasor"
   ]
  },
  {
   "cell_type": "code",
   "execution_count": 1,
   "metadata": {},
   "outputs": [],
   "source": [
    "# parameter setting\n",
    "amp = 1          # range [0.0, 1.0]\n",
    "sr = 10000       # 1초당 1만개!\n",
    "# sampling rate, Hz, 우리는 얼마나 쪼개어 볼 수 있는지 - 얼마나 discrete하게 갈건지 고르긴 해야 함. analog to digital. 옛 전화가 8000.\n",
    "#사람의 한계는? 4만 얼마였죠. 최대 가청주파수 2만에 연관.\n",
    "dur = 0.5        # in seconds\n",
    "freq = 100.0     # sine frequency, Hz"
   ]
  },
  {
   "cell_type": "code",
   "execution_count": 3,
   "metadata": {},
   "outputs": [],
   "source": [
    "# generate time\n",
    "t = np.arange(1, sr * dur+1)/sr \n",
    "#레인지 끝값은 잘리니까, +1 해줘서 5000번쨰까지.\n",
    "#1/10000 ~ 5000/10000까지지. 0.00001초부터 0.5000초까지."
   ]
  },
  {
   "cell_type": "code",
   "execution_count": null,
   "metadata": {},
   "outputs": [],
   "source": []
  }
 ],
 "metadata": {
  "kernelspec": {
   "display_name": "Python 3",
   "language": "python",
   "name": "python3"
  },
  "language_info": {
   "codemirror_mode": {
    "name": "ipython",
    "version": 3
   },
   "file_extension": ".py",
   "mimetype": "text/x-python",
   "name": "python",
   "nbconvert_exporter": "python",
   "pygments_lexer": "ipython3",
   "version": "3.7.1"
  }
 },
 "nbformat": 4,
 "nbformat_minor": 2
}
