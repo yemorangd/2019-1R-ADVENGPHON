{
 "cells": [
  {
   "cell_type": "code",
   "execution_count": 1,
   "metadata": {},
   "outputs": [],
   "source": [
    "import nltk"
   ]
  },
  {
   "cell_type": "code",
   "execution_count": 2,
   "metadata": {},
   "outputs": [],
   "source": [
    "raw = \"\"\"DENNIS: Listen, strange women lying in ponds distributing swords\n",
    "... is no basis for a system of government.  Supreme executive power derives from\n",
    "... a mandate from the masses, not from some farcical aquatic ceremony.\"\"\""
   ]
  },
  {
   "cell_type": "code",
   "execution_count": 3,
   "metadata": {},
   "outputs": [],
   "source": [
    "# tokenize\n",
    "tokens = nltk.word_tokenize(raw)"
   ]
  },
  {
   "cell_type": "markdown",
   "metadata": {},
   "source": [
    "### 활용 전 형태로 돌려놓는 stemmer. 여러가지 종류가 있고, 상황에 맞게 갖다 쓰면 된다.\n",
    "물론, 정확성은 예상대로 불량함.."
   ]
  },
  {
   "cell_type": "code",
   "execution_count": 5,
   "metadata": {
    "scrolled": true
   },
   "outputs": [
    {
     "name": "stdout",
     "output_type": "stream",
     "text": [
      "['denni', ':', 'listen', ',', 'strang', 'women', 'lie', 'in', 'pond', 'distribut', 'sword', 'is', 'no', 'basi', 'for', 'a', 'system', 'of', 'govern', '.', 'suprem', 'execut', 'power', 'deriv', 'from', 'a', 'mandat', 'from', 'the', 'mass', ',', 'not', 'from', 'some', 'farcic', 'aquat', 'ceremoni', '.']\n"
     ]
    }
   ],
   "source": [
    "# stemming\n",
    "porter = nltk.PorterStemmer() #변수에 함수 할당, 클로저 만든 셈이지.\n",
    "print([porter.stem(t) for t in tokens])"
   ]
  },
  {
   "cell_type": "code",
   "execution_count": 11,
   "metadata": {},
   "outputs": [
    {
     "name": "stdout",
     "output_type": "stream",
     "text": [
      "['den', ':', 'list', ',', 'strange', 'wom', 'lying', 'in', 'pond', 'distribut', 'sword', 'is', 'no', 'bas', 'for', 'a', 'system', 'of', 'govern', '.', 'suprem', 'execut', 'pow', 'der', 'from', 'a', 'mand', 'from', 'the', 'mass', ',', 'not', 'from', 'som', 'farc', 'aqu', 'ceremony', '.']\n"
     ]
    }
   ],
   "source": [
    "# stemming\n",
    "lancaster = nltk.LancasterStemmer()\n",
    "print([lancaster.stem(t) for t in tokens])"
   ]
  },
  {
   "cell_type": "markdown",
   "metadata": {},
   "source": [
    "#### lemmatize\n",
    "lemma(원형) -> lexeme(표현형)이었으니까, 원형을 찾아드리겠음. 이라는 이야기지 결국."
   ]
  },
  {
   "cell_type": "markdown",
   "metadata": {},
   "source": [
    "### 이건 원형을 뽑는, 다른 기능. 마구잡이로 잘라버리는 스테머보다는 이게 낫다."
   ]
  },
  {
   "cell_type": "code",
   "execution_count": 13,
   "metadata": {
    "scrolled": false
   },
   "outputs": [
    {
     "name": "stdout",
     "output_type": "stream",
     "text": [
      "['DENNIS', ':', 'Listen', ',', 'strange', 'woman', 'lying', 'in', 'pond', 'distributing', 'sword', 'is', 'no', 'basis', 'for', 'a', 'system', 'of', 'government', '.', 'Supreme', 'executive', 'power', 'derives', 'from', 'a', 'mandate', 'from', 'the', 'mass', ',', 'not', 'from', 'some', 'farcical', 'aquatic', 'ceremony', '.']\n"
     ]
    }
   ],
   "source": [
    "wnl = nltk.WordNetLemmatizer()\n",
    "print([wnl.lemmatize(t) for t in tokens])"
   ]
  },
  {
   "cell_type": "markdown",
   "metadata": {},
   "source": [
    "해보고 좀 생각도 해보고 하시길"
   ]
  },
  {
   "cell_type": "code",
   "execution_count": 18,
   "metadata": {
    "scrolled": false
   },
   "outputs": [
    {
     "name": "stdout",
     "output_type": "stream",
     "text": [
      "['In', 'percept', ',', 'discrimmin', 'percept', 'perfectli', 'from', 'sensat', 'is', 'a', 'hard', 'task', '.', 'It', 'ca', \"n't\", 'realli', 'be', 'seper', 'by', 'the', 'eye', 'of', 'an', 'experiment', '.']\n",
      "['in', 'perceiv', ',', 'discrimmin', 'perceiv', 'perfect', 'from', 'sens', 'is', 'a', 'hard', 'task', '.', 'it', 'ca', \"n't\", 'real', 'be', 'sep', 'by', 'the', 'ey', 'of', 'an', 'expery', '.']\n",
      "['In', 'perception', ',', 'discrimminating', 'perception', 'perfectly', 'from', 'sensation', 'is', 'a', 'hard', 'task', '.', 'It', 'ca', \"n't\", 'really', 'be', 'seperated', 'by', 'the', 'eye', 'of', 'an', 'experimenter', '.']\n"
     ]
    }
   ],
   "source": [
    "j = 'In perception, discrimminating perception perfectly from sensation is a hard task. It can\\'t really be seperated by the eye of an experimenter.'\n",
    "test = nltk.word_tokenize(j)\n",
    "print([porter.stem(t) for t in test])\n",
    "print([lancaster.stem(t) for t in test])\n",
    "print([wnl.lemmatize(t) for  t in test])"
   ]
  },
  {
   "cell_type": "markdown",
   "metadata": {},
   "source": [
    "일단, 뭘 쓰던 인식률이 좀 처참함. 게다가 can't는 인식할 방법을 찾지 못하겠음..."
   ]
  }
 ],
 "metadata": {
  "kernelspec": {
   "display_name": "Python 3",
   "language": "python",
   "name": "python3"
  },
  "language_info": {
   "codemirror_mode": {
    "name": "ipython",
    "version": 3
   },
   "file_extension": ".py",
   "mimetype": "text/x-python",
   "name": "python",
   "nbconvert_exporter": "python",
   "pygments_lexer": "ipython3",
   "version": "3.7.1"
  }
 },
 "nbformat": 4,
 "nbformat_minor": 2
}
